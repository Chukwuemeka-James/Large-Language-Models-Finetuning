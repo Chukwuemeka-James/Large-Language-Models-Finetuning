{
 "cells": [
  {
   "cell_type": "markdown",
   "metadata": {},
   "source": [
    "## **Evaluating Frontier Models for Product Pricing**  \n",
    "\n",
    "### **1. Introduction**  \n",
    "In this lesson, we will explore how **frontier models** (such as GPT-4o and Claude 3.5) perform on estimating product prices based on textual descriptions. The focus will be on **evaluating** these models rather than training them.  \n",
    "\n",
    "We will also compare their performance against **traditional models** and **human-generated estimates**, using a structured **test harness** to measure their accuracy.\n",
    "\n",
    "#### **2. Key Considerations**  \n",
    "- **We are not training the LLMs**, only evaluating their performance on the test dataset.  \n",
    "- Some **data contamination** is possible, as these models may have been trained on similar products.  \n",
    "- We will use **GPT-4o-mini, GPT-4o (August model), and Claude 3.5 Sonnet** for evaluation.\n",
    "\n",
    "---\n",
    "\n",
    "### **2. Dataset Preparation**  \n",
    "\n",
    "#### **Importing Required Libraries**  \n",
    "To begin, we import the necessary libraries: "
   ]
  },
  {
   "cell_type": "code",
   "execution_count": null,
   "metadata": {},
   "outputs": [],
   "source": [
    "import os\n",
    "import re\n",
    "import math\n",
    "import json\n",
    "import random\n",
    "from dotenv import load_dotenv\n",
    "from huggingface_hub import login\n",
    "import matplotlib.pyplot as plt\n",
    "import numpy as np\n",
    "import pickle\n",
    "from collections import Counter\n",
    "from openai import OpenAI\n",
    "from anthropic import Anthropic\n",
    "from utils.testing import Tester  # Custom test harness"
   ]
  },
  {
   "cell_type": "markdown",
   "metadata": {},
   "source": [
    "### **Environment Setup**\n",
    "\n",
    "We load environment variables and log into Hugging Face for potential model access."
   ]
  },
  {
   "cell_type": "code",
   "execution_count": null,
   "metadata": {},
   "outputs": [],
   "source": [
    "# Load environment variables\n",
    "import os\n",
    "from dotenv import load_dotenv\n",
    "from huggingface_hub import login\n",
    "\n",
    "# Load variables from .env file\n",
    "load_dotenv()\n",
    "\n",
    "# Retrieve API keys from environment variables\n",
    "openai_api_key = os.getenv('OPENAI_API_KEY')\n",
    "anthropic_api_key = os.getenv('ANTHROPIC_API_KEY')\n",
    "\n",
    "# Check if API keys are properly loaded\n",
    "if not openai_api_key or not anthropic_api_key:\n",
    "    raise ValueError(\"Missing API keys. Ensure OPENAI_API_KEY and HF_TOKEN are set in the .env file.\")\n",
    "\n",
    "# Set environment variables explicitly (optional)\n",
    "os.environ['OPENAI_API_KEY'] = openai_api_key\n",
    "os.environ['ANTHROPIC_API_KEY'] = anthropic_api_key\n"
   ]
  },
  {
   "cell_type": "markdown",
   "metadata": {},
   "source": [
    "#### **Initializing LLM Clients**  \n"
   ]
  },
  {
   "cell_type": "code",
   "execution_count": null,
   "metadata": {},
   "outputs": [],
   "source": [
    "openai = OpenAI()\n",
    "claude = Anthropic()"
   ]
  },
  {
   "cell_type": "markdown",
   "metadata": {},
   "source": [
    "### **Loading the Dataset**\n",
    "We load our train and test datasets from previously saved pickle files:"
   ]
  },
  {
   "cell_type": "code",
   "execution_count": null,
   "metadata": {},
   "outputs": [],
   "source": [
    "with open('train.pkl', 'rb') as file:\n",
    "    train = pickle.load(file)\n",
    "\n",
    "with open('test.pkl', 'rb') as file:\n",
    "    test = pickle.load(file)"
   ]
  },
  {
   "cell_type": "markdown",
   "metadata": {},
   "source": [
    "### **Preparing LLMs for Price Estimation**  \n",
    "\n",
    "#### **Structuring Prompts for LLMs**  \n",
    "To make our models predict prices effectively, we construct structured **prompts**:"
   ]
  },
  {
   "cell_type": "code",
   "execution_count": null,
   "metadata": {},
   "outputs": [],
   "source": [
    "def messages_for(item):\n",
    "    system_message = \"You estimate prices of items. Reply only with the price, no explanation.\"\n",
    "    user_prompt = item.test_prompt().replace(\" to the nearest dollar\", \"\").replace(\"\\n\\nPrice is $\", \"\")\n",
    "    return [\n",
    "        {\"role\": \"system\", \"content\": system_message},\n",
    "        {\"role\": \"user\", \"content\": user_prompt},\n",
    "        {\"role\": \"assistant\", \"content\": \"Price is $\"}\n",
    "    ]"
   ]
  },
  {
   "cell_type": "markdown",
   "metadata": {},
   "source": [
    "#### **Extracting Prices from LLM Responses**  \n",
    "We define a function to extract the **numerical price value** from model responses:"
   ]
  },
  {
   "cell_type": "code",
   "execution_count": null,
   "metadata": {},
   "outputs": [],
   "source": [
    "def get_price(s):\n",
    "    s = s.replace('$', '').replace(',', '')\n",
    "    match = re.search(r\"[-+]?\\d*\\.\\d+|\\d+\", s)\n",
    "    return float(match.group()) if match else 0"
   ]
  },
  {
   "cell_type": "code",
   "execution_count": null,
   "metadata": {},
   "outputs": [],
   "source": [
    "#Example Usage\n",
    "\n",
    "get_price(\"The price is roughly $99.99 because blah blah\")"
   ]
  },
  {
   "cell_type": "markdown",
   "metadata": {},
   "source": [
    "### **Evaluating Frontier Models**  \n",
    "\n",
    "##### **GPT-4o-Mini Price Estimation**  \n",
    "We define a function that **queries GPT-4o-mini** to estimate prices:"
   ]
  },
  {
   "cell_type": "code",
   "execution_count": null,
   "metadata": {},
   "outputs": [],
   "source": [
    "def gpt_4o_mini(item):\n",
    "    response = openai.chat.completions.create(\n",
    "        model=\"gpt-4o-mini\", \n",
    "        messages=messages_for(item),\n",
    "        seed=42,\n",
    "        max_tokens=5\n",
    "    )\n",
    "    reply = response.choices[0].message.content\n",
    "    return get_price(reply)"
   ]
  },
  {
   "cell_type": "code",
   "execution_count": null,
   "metadata": {},
   "outputs": [],
   "source": [
    "# Let call and get a prediction\n",
    "\n",
    "gpt_4o_mini(test[0])"
   ]
  },
  {
   "cell_type": "code",
   "execution_count": null,
   "metadata": {},
   "outputs": [],
   "source": [
    "# Actual price of the above\n",
    "\n",
    "test[0].price"
   ]
  },
  {
   "cell_type": "code",
   "execution_count": null,
   "metadata": {},
   "outputs": [],
   "source": [
    "# We then test GPT-4o-mini’s performance:\n",
    "\n",
    "Tester.test(gpt_4o_mini, test)"
   ]
  },
  {
   "cell_type": "markdown",
   "metadata": {},
   "source": [
    "#### **GPT-4o (August Model) Price Estimation**  \n",
    "We evaluate **a more advanced version** of GPT-4o:"
   ]
  },
  {
   "cell_type": "code",
   "execution_count": null,
   "metadata": {},
   "outputs": [],
   "source": [
    "def gpt_4o_frontier(item):\n",
    "    response = openai.chat.completions.create(\n",
    "        model=\"gpt-4o-2024-08-06\", \n",
    "        messages=messages_for(item),\n",
    "        seed=42,\n",
    "        max_tokens=5\n",
    "    )\n",
    "    reply = response.choices[0].message.content\n",
    "    return get_price(reply)"
   ]
  },
  {
   "cell_type": "code",
   "execution_count": null,
   "metadata": {},
   "outputs": [],
   "source": [
    "# Testing the GPT-4o frontier model\n",
    "\n",
    "Tester.test(gpt_4o_frontier, test)"
   ]
  },
  {
   "cell_type": "markdown",
   "metadata": {},
   "source": [
    "#### **Claude 3.5 Sonnet Price Estimation**  \n",
    "We now test **Anthropic’s Claude 3.5 Sonnet**:"
   ]
  },
  {
   "cell_type": "code",
   "execution_count": null,
   "metadata": {},
   "outputs": [],
   "source": [
    "def claude_3_point_5_sonnet(item):\n",
    "    messages = messages_for(item)\n",
    "    system_message = messages[0]['content']\n",
    "    messages = messages[1:]\n",
    "    response = claude.messages.create(\n",
    "        model=\"claude-3-5-sonnet-20240620\",\n",
    "        max_tokens=5,\n",
    "        system=system_message,\n",
    "        messages=messages\n",
    "    )\n",
    "    reply = response.content[0].text\n",
    "    return get_price(reply)"
   ]
  },
  {
   "cell_type": "code",
   "execution_count": null,
   "metadata": {},
   "outputs": [],
   "source": [
    "# Testing Claude 3.5 Sonnet\n",
    "\n",
    "Tester.test(claude_3_point_5_sonnet, test)"
   ]
  },
  {
   "cell_type": "markdown",
   "metadata": {},
   "source": [
    "\n",
    "\n",
    "### **Conclusion & Key Takeaways**  \n",
    "\n",
    "#### **Summary**  \n",
    "- We tested different **frontier LLMs** on the task of price estimation.  \n",
    "- **GPT-4o-mini, GPT-4o (August), and Claude 3.5 Sonnet** were used for comparison.  \n",
    "- We leveraged a **test harness (Tester class)** to measure performance.\n",
    "\n",
    "#### **Considerations & Limitations**  \n",
    "- **LLMs might have prior knowledge** of the test data due to pre-training, introducing potential bias.  \n",
    "- **Fine-tuning** could further improve performance if allowed.  \n",
    "- **Evaluating results across different LLMs** helps determine robustness.\n",
    "\n",
    "#### **Next Steps**  \n",
    "- Explore **fine-tuning techniques** for custom LLM adaptation.  \n",
    "- Investigate **smaller, open-source models** to reduce dependency on API-based LLMs.  \n",
    "- Perform **more rigorous error analysis** to refine model selection."
   ]
  },
  {
   "cell_type": "markdown",
   "metadata": {},
   "source": []
  }
 ],
 "metadata": {
  "kernelspec": {
   "display_name": "llms",
   "language": "python",
   "name": "python3"
  },
  "language_info": {
   "name": "python",
   "version": "3.11.11"
  }
 },
 "nbformat": 4,
 "nbformat_minor": 2
}
